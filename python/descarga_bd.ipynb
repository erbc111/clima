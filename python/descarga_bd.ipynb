{
 "cells": [
  {
   "cell_type": "code",
   "execution_count": 1,
   "metadata": {},
   "outputs": [
    {
     "name": "stdout",
     "output_type": "stream",
     "text": [
      "e:\\Respaldo\\Documentos\\data analisis\\clima\\.venv\\Scripts\\python.exe\n",
      "C:\\Users\\ERBC\\AppData\\Local\\Programs\\Python\\Python313\\python.exe\n",
      "C:\\Users\\ERBC\\AppData\\Local\\Microsoft\\WindowsApps\\python.exe\n"
     ]
    }
   ],
   "source": [
    "#creo entorno virtual\n",
    "! python -m venv .clima_venv \n",
    "#activo el entorno\n",
    "! .clima_venv\\Scripts\\activate \n",
    "#compuebo si estoy trabajando en el entorno\n",
    "! where python"
   ]
  },
  {
   "cell_type": "code",
   "execution_count": null,
   "metadata": {},
   "outputs": [
    {
     "name": "stdout",
     "output_type": "stream",
     "text": [
      "Collecting kaggle\n",
      "  Using cached kaggle-1.6.17-py3-none-any.whl\n",
      "Collecting sqlalchemy\n",
      "  Downloading SQLAlchemy-2.0.38-cp313-cp313-win_amd64.whl.metadata (9.9 kB)\n",
      "Collecting pandas\n",
      "  Using cached pandas-2.2.3-cp313-cp313-win_amd64.whl.metadata (19 kB)\n",
      "Collecting numpy\n",
      "  Downloading numpy-2.2.3-cp313-cp313-win_amd64.whl.metadata (60 kB)\n",
      "Collecting seaborn\n",
      "  Using cached seaborn-0.13.2-py3-none-any.whl.metadata (5.4 kB)\n",
      "Collecting requests\n",
      "  Using cached requests-2.32.3-py3-none-any.whl.metadata (4.6 kB)\n",
      "Collecting lxml\n",
      "  Downloading lxml-5.3.1-cp313-cp313-win_amd64.whl.metadata (3.8 kB)\n",
      "Collecting selenium\n",
      "  Downloading selenium-4.29.0-py3-none-any.whl.metadata (7.1 kB)\n",
      "Requirement already satisfied: six>=1.10 in e:\\respaldo\\documentos\\data analisis\\clima\\.venv\\lib\\site-packages (from kaggle) (1.17.0)\n",
      "Collecting certifi>=2023.7.22 (from kaggle)\n",
      "  Downloading certifi-2025.1.31-py3-none-any.whl.metadata (2.5 kB)\n",
      "Requirement already satisfied: python-dateutil in e:\\respaldo\\documentos\\data analisis\\clima\\.venv\\lib\\site-packages (from kaggle) (2.9.0.post0)\n",
      "Collecting tqdm (from kaggle)\n",
      "  Using cached tqdm-4.67.1-py3-none-any.whl.metadata (57 kB)\n",
      "Collecting python-slugify (from kaggle)\n",
      "  Using cached python_slugify-8.0.4-py2.py3-none-any.whl.metadata (8.5 kB)\n",
      "Collecting urllib3 (from kaggle)\n",
      "  Using cached urllib3-2.3.0-py3-none-any.whl.metadata (6.5 kB)\n",
      "Collecting bleach (from kaggle)\n",
      "  Using cached bleach-6.2.0-py3-none-any.whl.metadata (30 kB)\n",
      "Collecting greenlet!=0.4.17 (from sqlalchemy)\n",
      "  Using cached greenlet-3.1.1-cp313-cp313-win_amd64.whl.metadata (3.9 kB)\n",
      "Collecting typing-extensions>=4.6.0 (from sqlalchemy)\n",
      "  Using cached typing_extensions-4.12.2-py3-none-any.whl.metadata (3.0 kB)\n",
      "Collecting pytz>=2020.1 (from pandas)\n",
      "  Downloading pytz-2025.1-py2.py3-none-any.whl.metadata (22 kB)\n",
      "Collecting tzdata>=2022.7 (from pandas)\n",
      "  Downloading tzdata-2025.1-py2.py3-none-any.whl.metadata (1.4 kB)\n",
      "Collecting matplotlib!=3.6.1,>=3.4 (from seaborn)\n",
      "  Downloading matplotlib-3.10.1-cp313-cp313-win_amd64.whl.metadata (11 kB)\n",
      "Collecting charset-normalizer<4,>=2 (from requests)\n",
      "  Using cached charset_normalizer-3.4.1-cp313-cp313-win_amd64.whl.metadata (36 kB)\n",
      "Collecting idna<4,>=2.5 (from requests)\n",
      "  Using cached idna-3.10-py3-none-any.whl.metadata (10 kB)\n",
      "Collecting trio~=0.17 (from selenium)\n",
      "  Downloading trio-0.29.0-py3-none-any.whl.metadata (8.5 kB)\n",
      "Collecting trio-websocket~=0.9 (from selenium)\n",
      "  Downloading trio_websocket-0.12.2-py3-none-any.whl.metadata (5.1 kB)\n",
      "Collecting websocket-client~=1.8 (from selenium)\n",
      "  Using cached websocket_client-1.8.0-py3-none-any.whl.metadata (8.0 kB)\n",
      "Collecting contourpy>=1.0.1 (from matplotlib!=3.6.1,>=3.4->seaborn)\n",
      "  Using cached contourpy-1.3.1-cp313-cp313-win_amd64.whl.metadata (5.4 kB)\n",
      "Collecting cycler>=0.10 (from matplotlib!=3.6.1,>=3.4->seaborn)\n",
      "  Using cached cycler-0.12.1-py3-none-any.whl.metadata (3.8 kB)\n",
      "Collecting fonttools>=4.22.0 (from matplotlib!=3.6.1,>=3.4->seaborn)\n",
      "  Downloading fonttools-4.56.0-cp313-cp313-win_amd64.whl.metadata (103 kB)\n",
      "Collecting kiwisolver>=1.3.1 (from matplotlib!=3.6.1,>=3.4->seaborn)\n",
      "  Using cached kiwisolver-1.4.8-cp313-cp313-win_amd64.whl.metadata (6.3 kB)\n",
      "Requirement already satisfied: packaging>=20.0 in e:\\respaldo\\documentos\\data analisis\\clima\\.venv\\lib\\site-packages (from matplotlib!=3.6.1,>=3.4->seaborn) (24.2)\n",
      "Collecting pillow>=8 (from matplotlib!=3.6.1,>=3.4->seaborn)\n",
      "  Using cached pillow-11.1.0-cp313-cp313-win_amd64.whl.metadata (9.3 kB)\n",
      "Collecting pyparsing>=2.3.1 (from matplotlib!=3.6.1,>=3.4->seaborn)\n",
      "  Using cached pyparsing-3.2.1-py3-none-any.whl.metadata (5.0 kB)\n",
      "Collecting attrs>=23.2.0 (from trio~=0.17->selenium)\n",
      "  Using cached attrs-25.1.0-py3-none-any.whl.metadata (10 kB)\n",
      "Collecting sortedcontainers (from trio~=0.17->selenium)\n",
      "  Using cached sortedcontainers-2.4.0-py2.py3-none-any.whl.metadata (10 kB)\n",
      "Collecting outcome (from trio~=0.17->selenium)\n",
      "  Using cached outcome-1.3.0.post0-py2.py3-none-any.whl.metadata (2.6 kB)\n",
      "Collecting sniffio>=1.3.0 (from trio~=0.17->selenium)\n",
      "  Using cached sniffio-1.3.1-py3-none-any.whl.metadata (3.9 kB)\n",
      "Collecting cffi>=1.14 (from trio~=0.17->selenium)\n",
      "  Using cached cffi-1.17.1-cp313-cp313-win_amd64.whl.metadata (1.6 kB)\n",
      "Collecting wsproto>=0.14 (from trio-websocket~=0.9->selenium)\n",
      "  Using cached wsproto-1.2.0-py3-none-any.whl.metadata (5.6 kB)\n",
      "Collecting pysocks!=1.5.7,<2.0,>=1.5.6 (from urllib3[socks]<3,>=1.26->selenium)\n",
      "  Using cached PySocks-1.7.1-py3-none-any.whl.metadata (13 kB)\n",
      "Collecting webencodings (from bleach->kaggle)\n",
      "  Using cached webencodings-0.5.1-py2.py3-none-any.whl.metadata (2.1 kB)\n",
      "Collecting text-unidecode>=1.3 (from python-slugify->kaggle)\n",
      "  Using cached text_unidecode-1.3-py2.py3-none-any.whl.metadata (2.4 kB)\n",
      "Requirement already satisfied: colorama in e:\\respaldo\\documentos\\data analisis\\clima\\.venv\\lib\\site-packages (from tqdm->kaggle) (0.4.6)\n",
      "Collecting pycparser (from cffi>=1.14->trio~=0.17->selenium)\n",
      "  Using cached pycparser-2.22-py3-none-any.whl.metadata (943 bytes)\n",
      "Collecting h11<1,>=0.9.0 (from wsproto>=0.14->trio-websocket~=0.9->selenium)\n",
      "  Using cached h11-0.14.0-py3-none-any.whl.metadata (8.2 kB)\n",
      "Downloading SQLAlchemy-2.0.38-cp313-cp313-win_amd64.whl (2.1 MB)\n",
      "   ---------------------------------------- 0.0/2.1 MB ? eta -:--:--\n",
      "   ---------- ----------------------------- 0.5/2.1 MB 3.1 MB/s eta 0:00:01\n",
      "   ---------------------------------------- 2.1/2.1 MB 7.0 MB/s eta 0:00:00\n",
      "Using cached pandas-2.2.3-cp313-cp313-win_amd64.whl (11.5 MB)\n",
      "Downloading numpy-2.2.3-cp313-cp313-win_amd64.whl (12.6 MB)\n",
      "   ---------------------------------------- 0.0/12.6 MB ? eta -:--:--\n",
      "   ---------------------- ----------------- 7.1/12.6 MB 32.6 MB/s eta 0:00:01\n",
      "   ---------------------------------------- 12.6/12.6 MB 31.5 MB/s eta 0:00:00\n",
      "Using cached seaborn-0.13.2-py3-none-any.whl (294 kB)\n",
      "Using cached requests-2.32.3-py3-none-any.whl (64 kB)\n",
      "Downloading lxml-5.3.1-cp313-cp313-win_amd64.whl (3.8 MB)\n",
      "   ---------------------------------------- 0.0/3.8 MB ? eta -:--:--\n",
      "   ---------------------------------------- 3.8/3.8 MB 35.4 MB/s eta 0:00:00\n",
      "Downloading selenium-4.29.0-py3-none-any.whl (9.5 MB)\n",
      "   ---------------------------------------- 0.0/9.5 MB ? eta -:--:--\n",
      "   ----------------------------------- ---- 8.4/9.5 MB 40.6 MB/s eta 0:00:01\n",
      "   ---------------------------------------- 9.5/9.5 MB 37.6 MB/s eta 0:00:00\n",
      "Downloading certifi-2025.1.31-py3-none-any.whl (166 kB)\n",
      "Using cached charset_normalizer-3.4.1-cp313-cp313-win_amd64.whl (102 kB)\n",
      "Using cached greenlet-3.1.1-cp313-cp313-win_amd64.whl (299 kB)\n",
      "Using cached idna-3.10-py3-none-any.whl (70 kB)\n",
      "Downloading matplotlib-3.10.1-cp313-cp313-win_amd64.whl (8.1 MB)\n",
      "   ---------------------------------------- 0.0/8.1 MB ? eta -:--:--\n",
      "   ---------------------------------------  7.9/8.1 MB 39.6 MB/s eta 0:00:01\n",
      "   ---------------------------------------- 8.1/8.1 MB 36.8 MB/s eta 0:00:00\n",
      "Downloading pytz-2025.1-py2.py3-none-any.whl (507 kB)\n",
      "Downloading trio-0.29.0-py3-none-any.whl (492 kB)\n",
      "Downloading trio_websocket-0.12.2-py3-none-any.whl (21 kB)\n",
      "Using cached typing_extensions-4.12.2-py3-none-any.whl (37 kB)\n",
      "Downloading tzdata-2025.1-py2.py3-none-any.whl (346 kB)\n",
      "Using cached urllib3-2.3.0-py3-none-any.whl (128 kB)\n",
      "Using cached websocket_client-1.8.0-py3-none-any.whl (58 kB)\n",
      "Using cached bleach-6.2.0-py3-none-any.whl (163 kB)\n",
      "Using cached python_slugify-8.0.4-py2.py3-none-any.whl (10 kB)\n",
      "Using cached tqdm-4.67.1-py3-none-any.whl (78 kB)\n",
      "Using cached attrs-25.1.0-py3-none-any.whl (63 kB)\n",
      "Using cached cffi-1.17.1-cp313-cp313-win_amd64.whl (182 kB)\n",
      "Using cached contourpy-1.3.1-cp313-cp313-win_amd64.whl (220 kB)\n",
      "Using cached cycler-0.12.1-py3-none-any.whl (8.3 kB)\n",
      "Downloading fonttools-4.56.0-cp313-cp313-win_amd64.whl (2.2 MB)\n",
      "   ---------------------------------------- 0.0/2.2 MB ? eta -:--:--\n",
      "   ---------------------------------------- 2.2/2.2 MB 34.6 MB/s eta 0:00:00\n",
      "Using cached kiwisolver-1.4.8-cp313-cp313-win_amd64.whl (71 kB)\n",
      "Using cached outcome-1.3.0.post0-py2.py3-none-any.whl (10 kB)\n",
      "Using cached pillow-11.1.0-cp313-cp313-win_amd64.whl (2.6 MB)\n",
      "Using cached pyparsing-3.2.1-py3-none-any.whl (107 kB)\n",
      "Using cached PySocks-1.7.1-py3-none-any.whl (16 kB)\n",
      "Using cached sniffio-1.3.1-py3-none-any.whl (10 kB)\n",
      "Using cached text_unidecode-1.3-py2.py3-none-any.whl (78 kB)\n",
      "Using cached wsproto-1.2.0-py3-none-any.whl (24 kB)\n",
      "Using cached sortedcontainers-2.4.0-py2.py3-none-any.whl (29 kB)\n",
      "Using cached webencodings-0.5.1-py2.py3-none-any.whl (11 kB)\n",
      "Using cached h11-0.14.0-py3-none-any.whl (58 kB)\n",
      "Using cached pycparser-2.22-py3-none-any.whl (117 kB)\n",
      "Installing collected packages: webencodings, text-unidecode, sortedcontainers, pytz, websocket-client, urllib3, tzdata, typing-extensions, tqdm, sniffio, python-slugify, pysocks, pyparsing, pycparser, pillow, numpy, lxml, kiwisolver, idna, h11, greenlet, fonttools, cycler, charset-normalizer, certifi, bleach, attrs, wsproto, sqlalchemy, requests, pandas, outcome, contourpy, cffi, trio, matplotlib, kaggle, trio-websocket, seaborn, selenium\n",
      "Successfully installed attrs-25.1.0 bleach-6.2.0 certifi-2025.1.31 cffi-1.17.1 charset-normalizer-3.4.1 contourpy-1.3.1 cycler-0.12.1 fonttools-4.56.0 greenlet-3.1.1 h11-0.14.0 idna-3.10 kaggle-1.6.17 kiwisolver-1.4.8 lxml-5.3.1 matplotlib-3.10.1 numpy-2.2.3 outcome-1.3.0.post0 pandas-2.2.3 pillow-11.1.0 pycparser-2.22 pyparsing-3.2.1 pysocks-1.7.1 python-slugify-8.0.4 pytz-2025.1 requests-2.32.3 seaborn-0.13.2 selenium-4.29.0 sniffio-1.3.1 sortedcontainers-2.4.0 sqlalchemy-2.0.38 text-unidecode-1.3 tqdm-4.67.1 trio-0.29.0 trio-websocket-0.12.2 typing-extensions-4.12.2 tzdata-2025.1 urllib3-2.3.0 webencodings-0.5.1 websocket-client-1.8.0 wsproto-1.2.0\n"
     ]
    }
   ],
   "source": [
    "#instalacion de librerias\n",
    "! pip install kaggle sqlalchemy pandas numpy seaborn requests lxml selenium\n",
    "! pip freeze > requirements.txt"
   ]
  },
  {
   "cell_type": "code",
   "execution_count": 3,
   "metadata": {},
   "outputs": [
    {
     "name": "stderr",
     "output_type": "stream",
     "text": [
      "<>:3: SyntaxWarning: invalid escape sequence '\\R'\n",
      "<>:3: SyntaxWarning: invalid escape sequence '\\R'\n",
      "C:\\Users\\ERBC\\AppData\\Local\\Temp\\ipykernel_9660\\1915072911.py:3: SyntaxWarning: invalid escape sequence '\\R'\n",
      "  os.environ['KAGGLE_CONFIG_DIR'] = 'E:\\Respaldo\\Documentos\\data analisis\\clima\\.kaggle'\n"
     ]
    }
   ],
   "source": [
    "import os\n",
    "# Configurar la API de Kaggle\n",
    "os.environ['KAGGLE_CONFIG_DIR'] = 'E:\\Respaldo\\Documentos\\data analisis\\clima\\.kaggle'"
   ]
  },
  {
   "cell_type": "code",
   "execution_count": 4,
   "metadata": {},
   "outputs": [],
   "source": [
    "from kaggle.api.kaggle_api_extended import KaggleApi\n",
    "\n",
    "# Configurar la API\n",
    "api = KaggleApi()\n",
    "api.authenticate()"
   ]
  },
  {
   "cell_type": "code",
   "execution_count": 5,
   "metadata": {},
   "outputs": [
    {
     "name": "stderr",
     "output_type": "stream",
     "text": [
      "<>:3: SyntaxWarning: invalid escape sequence '\\R'\n",
      "<>:3: SyntaxWarning: invalid escape sequence '\\R'\n",
      "C:\\Users\\ERBC\\AppData\\Local\\Temp\\ipykernel_9660\\3307531975.py:3: SyntaxWarning: invalid escape sequence '\\R'\n",
      "  output_path = 'E:\\Respaldo\\Documentos\\data analisis\\clima\\descargas'\n"
     ]
    },
    {
     "name": "stdout",
     "output_type": "stream",
     "text": [
      "Dataset URL: https://www.kaggle.com/datasets/selfishgene/historical-hourly-weather-data\n"
     ]
    }
   ],
   "source": [
    "# Descargar el dataset\n",
    "dataset = 'selfishgene/historical-hourly-weather-data'  # identificador del dataset de Kaggle\n",
    "output_path = 'E:\\Respaldo\\Documentos\\data analisis\\clima\\descargas'\n",
    "api.dataset_download_files(dataset, path=output_path, unzip=True)"
   ]
  },
  {
   "cell_type": "code",
   "execution_count": null,
   "metadata": {},
   "outputs": [
    {
     "name": "stdout",
     "output_type": "stream",
     "text": [
      "True\n",
      "Los archivos son iguales. Eliminado el nuevo para liberar espacio\n",
      "El archivo nuevo 'E:\\Respaldo\\Documentos\\data analisis\\clima\\descargas\\weather_description.csv' ha sido eliminado.\n"
     ]
    }
   ],
   "source": [
    "# comparar si el archivo descargado es igual al antiguo\n",
    "import pandas as pd\n",
    "\n",
    "archivo_player_info_antiguo = r\"E:\\Respaldo\\Documentos\\data analisis\\clima\\data_bruta\\weather_description.csv\" #se asigna la ruta a una variable\n",
    "df_antiguo1 = pd.read_csv(archivo_player_info_antiguo)\n",
    "\n",
    "archivo_player_info_nuevo = r\"E:\\Respaldo\\Documentos\\data analisis\\clima\\descargas\\weather_description.csv\" #se asigna la ruta a una variable\n",
    "df_nuevo1 = pd.read_csv(archivo_player_info_nuevo)\n",
    "\n",
    "son_iguales = df_antiguo1.equals(df_nuevo1)\n",
    "print(son_iguales) # True si son iguales, False si no lo son\n",
    "\n",
    "if son_iguales:\n",
    "    print(\"Los archivos son iguales. Eliminado el nuevo para liberar espacio\")\n",
    "    # Eliminar el archivo nuevo\n",
    "    os.remove(archivo_player_info_nuevo)\n",
    "    print(f\"El archivo nuevo '{archivo_player_info_nuevo}' ha sido eliminado.\")\n",
    "else:\n",
    "    print(\"Son diferentes sustituyendo el archivo antiguo por el nuevo....\")\n",
    "    # Sustituir el archivo antiguo por el nuevo\n",
    "    df_nuevo1.to_csv(archivo_player_info_antiguo, index=False)\n",
    "    print(\"El archivo antiguo ha sido sustituido por el nuevo.\")\n",
    "\n",
    "    # Eliminar el archivo nuevo\n",
    "    os.remove(archivo_player_info_nuevo)\n",
    "    print(f\"El archivo nuevo '{archivo_player_info_nuevo}' ha sido eliminado.\")"
   ]
  },
  {
   "cell_type": "code",
   "execution_count": 8,
   "metadata": {},
   "outputs": [
    {
     "name": "stdout",
     "output_type": "stream",
     "text": [
      "🚀 Proceso completado para todos los archivos.\n"
     ]
    }
   ],
   "source": [
    "import pandas as pd\n",
    "import os\n",
    "\n",
    "# Directorios\n",
    "carpeta_antiguos = r\"E:\\Respaldo\\Documentos\\data analisis\\clima\\data_bruta\"\n",
    "carpeta_nuevos = r\"E:\\Respaldo\\Documentos\\data analisis\\clima\\descargas\"\n",
    "\n",
    "# Obtener la lista de archivos en la carpeta de descargas\n",
    "archivos_nuevos = os.listdir(carpeta_nuevos)\n",
    "\n",
    "# Recorrer los archivos y comparar cada uno con su versión antigua\n",
    "for archivo in archivos_nuevos:\n",
    "    ruta_antiguo = os.path.join(carpeta_antiguos, archivo)\n",
    "    ruta_nuevo = os.path.join(carpeta_nuevos, archivo)\n",
    "\n",
    "    # Verificar si el archivo antiguo existe\n",
    "    if os.path.exists(ruta_antiguo):\n",
    "        df_antiguo = pd.read_csv(ruta_antiguo)\n",
    "        df_nuevo = pd.read_csv(ruta_nuevo)\n",
    "\n",
    "        if df_antiguo.equals(df_nuevo):\n",
    "            print(f\"✅ {archivo}: Los archivos son iguales. Eliminando el nuevo...\")\n",
    "            os.remove(ruta_nuevo)\n",
    "        else:\n",
    "            print(f\"🔄 {archivo}: Son diferentes, reemplazando el antiguo con el nuevo...\")\n",
    "            df_nuevo.to_csv(ruta_antiguo, index=False)\n",
    "            os.remove(ruta_nuevo)\n",
    "\n",
    "    else:\n",
    "        print(f\"⚠ {archivo}: No existe en la carpeta antigua. Moviéndolo a data_bruta...\")\n",
    "        os.rename(ruta_nuevo, ruta_antiguo)\n",
    "\n",
    "print(\"🚀 Proceso completado para todos los archivos.\")\n"
   ]
  }
 ],
 "metadata": {
  "kernelspec": {
   "display_name": ".venv",
   "language": "python",
   "name": "python3"
  },
  "language_info": {
   "codemirror_mode": {
    "name": "ipython",
    "version": 3
   },
   "file_extension": ".py",
   "mimetype": "text/x-python",
   "name": "python",
   "nbconvert_exporter": "python",
   "pygments_lexer": "ipython3",
   "version": "3.13.1"
  }
 },
 "nbformat": 4,
 "nbformat_minor": 2
}
