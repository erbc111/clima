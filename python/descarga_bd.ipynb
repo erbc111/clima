{
 "cells": [
  {
   "cell_type": "code",
   "execution_count": 1,
   "metadata": {},
   "outputs": [
    {
     "name": "stdout",
     "output_type": "stream",
     "text": [
      "e:\\Respaldo\\Documentos\\data analisis\\clima\\.venv\\Scripts\\python.exe\n",
      "C:\\Users\\ERBC\\AppData\\Local\\Programs\\Python\\Python313\\python.exe\n",
      "C:\\Users\\ERBC\\AppData\\Local\\Microsoft\\WindowsApps\\python.exe\n"
     ]
    }
   ],
   "source": [
    "#creo entorno virtual\n",
    "! python -m venv .clima_venv \n",
    "#activo el entorno\n",
    "! .clima_venv\\Scripts\\activate \n",
    "#compuebo si estoy trabajando en el entorno\n",
    "! where python"
   ]
  },
  {
   "cell_type": "code",
   "execution_count": 9,
   "metadata": {},
   "outputs": [
    {
     "name": "stdout",
     "output_type": "stream",
     "text": [
      "Requirement already satisfied: kaggle in e:\\respaldo\\documentos\\data analisis\\clima\\.venv\\lib\\site-packages (1.6.17)\n",
      "Requirement already satisfied: sqlalchemy in e:\\respaldo\\documentos\\data analisis\\clima\\.venv\\lib\\site-packages (2.0.38)\n",
      "Requirement already satisfied: pandas in e:\\respaldo\\documentos\\data analisis\\clima\\.venv\\lib\\site-packages (2.2.3)\n",
      "Requirement already satisfied: numpy in e:\\respaldo\\documentos\\data analisis\\clima\\.venv\\lib\\site-packages (2.2.3)\n",
      "Requirement already satisfied: seaborn in e:\\respaldo\\documentos\\data analisis\\clima\\.venv\\lib\\site-packages (0.13.2)\n",
      "Requirement already satisfied: requests in e:\\respaldo\\documentos\\data analisis\\clima\\.venv\\lib\\site-packages (2.32.3)\n",
      "Requirement already satisfied: lxml in e:\\respaldo\\documentos\\data analisis\\clima\\.venv\\lib\\site-packages (5.3.1)\n",
      "Requirement already satisfied: selenium in e:\\respaldo\\documentos\\data analisis\\clima\\.venv\\lib\\site-packages (4.29.0)\n",
      "Collecting psycopg2-binary\n",
      "  Downloading psycopg2_binary-2.9.10-cp313-cp313-win_amd64.whl.metadata (4.8 kB)\n",
      "Requirement already satisfied: six>=1.10 in e:\\respaldo\\documentos\\data analisis\\clima\\.venv\\lib\\site-packages (from kaggle) (1.17.0)\n",
      "Requirement already satisfied: certifi>=2023.7.22 in e:\\respaldo\\documentos\\data analisis\\clima\\.venv\\lib\\site-packages (from kaggle) (2025.1.31)\n",
      "Requirement already satisfied: python-dateutil in e:\\respaldo\\documentos\\data analisis\\clima\\.venv\\lib\\site-packages (from kaggle) (2.9.0.post0)\n",
      "Requirement already satisfied: tqdm in e:\\respaldo\\documentos\\data analisis\\clima\\.venv\\lib\\site-packages (from kaggle) (4.67.1)\n",
      "Requirement already satisfied: python-slugify in e:\\respaldo\\documentos\\data analisis\\clima\\.venv\\lib\\site-packages (from kaggle) (8.0.4)\n",
      "Requirement already satisfied: urllib3 in e:\\respaldo\\documentos\\data analisis\\clima\\.venv\\lib\\site-packages (from kaggle) (2.3.0)\n",
      "Requirement already satisfied: bleach in e:\\respaldo\\documentos\\data analisis\\clima\\.venv\\lib\\site-packages (from kaggle) (6.2.0)\n",
      "Requirement already satisfied: greenlet!=0.4.17 in e:\\respaldo\\documentos\\data analisis\\clima\\.venv\\lib\\site-packages (from sqlalchemy) (3.1.1)\n",
      "Requirement already satisfied: typing-extensions>=4.6.0 in e:\\respaldo\\documentos\\data analisis\\clima\\.venv\\lib\\site-packages (from sqlalchemy) (4.12.2)\n",
      "Requirement already satisfied: pytz>=2020.1 in e:\\respaldo\\documentos\\data analisis\\clima\\.venv\\lib\\site-packages (from pandas) (2025.1)\n",
      "Requirement already satisfied: tzdata>=2022.7 in e:\\respaldo\\documentos\\data analisis\\clima\\.venv\\lib\\site-packages (from pandas) (2025.1)\n",
      "Requirement already satisfied: matplotlib!=3.6.1,>=3.4 in e:\\respaldo\\documentos\\data analisis\\clima\\.venv\\lib\\site-packages (from seaborn) (3.10.1)\n",
      "Requirement already satisfied: charset-normalizer<4,>=2 in e:\\respaldo\\documentos\\data analisis\\clima\\.venv\\lib\\site-packages (from requests) (3.4.1)\n",
      "Requirement already satisfied: idna<4,>=2.5 in e:\\respaldo\\documentos\\data analisis\\clima\\.venv\\lib\\site-packages (from requests) (3.10)\n",
      "Requirement already satisfied: trio~=0.17 in e:\\respaldo\\documentos\\data analisis\\clima\\.venv\\lib\\site-packages (from selenium) (0.29.0)\n",
      "Requirement already satisfied: trio-websocket~=0.9 in e:\\respaldo\\documentos\\data analisis\\clima\\.venv\\lib\\site-packages (from selenium) (0.12.2)\n",
      "Requirement already satisfied: websocket-client~=1.8 in e:\\respaldo\\documentos\\data analisis\\clima\\.venv\\lib\\site-packages (from selenium) (1.8.0)\n",
      "Requirement already satisfied: contourpy>=1.0.1 in e:\\respaldo\\documentos\\data analisis\\clima\\.venv\\lib\\site-packages (from matplotlib!=3.6.1,>=3.4->seaborn) (1.3.1)\n",
      "Requirement already satisfied: cycler>=0.10 in e:\\respaldo\\documentos\\data analisis\\clima\\.venv\\lib\\site-packages (from matplotlib!=3.6.1,>=3.4->seaborn) (0.12.1)\n",
      "Requirement already satisfied: fonttools>=4.22.0 in e:\\respaldo\\documentos\\data analisis\\clima\\.venv\\lib\\site-packages (from matplotlib!=3.6.1,>=3.4->seaborn) (4.56.0)\n",
      "Requirement already satisfied: kiwisolver>=1.3.1 in e:\\respaldo\\documentos\\data analisis\\clima\\.venv\\lib\\site-packages (from matplotlib!=3.6.1,>=3.4->seaborn) (1.4.8)\n",
      "Requirement already satisfied: packaging>=20.0 in e:\\respaldo\\documentos\\data analisis\\clima\\.venv\\lib\\site-packages (from matplotlib!=3.6.1,>=3.4->seaborn) (24.2)\n",
      "Requirement already satisfied: pillow>=8 in e:\\respaldo\\documentos\\data analisis\\clima\\.venv\\lib\\site-packages (from matplotlib!=3.6.1,>=3.4->seaborn) (11.1.0)\n",
      "Requirement already satisfied: pyparsing>=2.3.1 in e:\\respaldo\\documentos\\data analisis\\clima\\.venv\\lib\\site-packages (from matplotlib!=3.6.1,>=3.4->seaborn) (3.2.1)\n",
      "Requirement already satisfied: attrs>=23.2.0 in e:\\respaldo\\documentos\\data analisis\\clima\\.venv\\lib\\site-packages (from trio~=0.17->selenium) (25.1.0)\n",
      "Requirement already satisfied: sortedcontainers in e:\\respaldo\\documentos\\data analisis\\clima\\.venv\\lib\\site-packages (from trio~=0.17->selenium) (2.4.0)\n",
      "Requirement already satisfied: outcome in e:\\respaldo\\documentos\\data analisis\\clima\\.venv\\lib\\site-packages (from trio~=0.17->selenium) (1.3.0.post0)\n",
      "Requirement already satisfied: sniffio>=1.3.0 in e:\\respaldo\\documentos\\data analisis\\clima\\.venv\\lib\\site-packages (from trio~=0.17->selenium) (1.3.1)\n",
      "Requirement already satisfied: cffi>=1.14 in e:\\respaldo\\documentos\\data analisis\\clima\\.venv\\lib\\site-packages (from trio~=0.17->selenium) (1.17.1)\n",
      "Requirement already satisfied: wsproto>=0.14 in e:\\respaldo\\documentos\\data analisis\\clima\\.venv\\lib\\site-packages (from trio-websocket~=0.9->selenium) (1.2.0)\n",
      "Requirement already satisfied: pysocks!=1.5.7,<2.0,>=1.5.6 in e:\\respaldo\\documentos\\data analisis\\clima\\.venv\\lib\\site-packages (from urllib3[socks]<3,>=1.26->selenium) (1.7.1)\n",
      "Requirement already satisfied: webencodings in e:\\respaldo\\documentos\\data analisis\\clima\\.venv\\lib\\site-packages (from bleach->kaggle) (0.5.1)\n",
      "Requirement already satisfied: text-unidecode>=1.3 in e:\\respaldo\\documentos\\data analisis\\clima\\.venv\\lib\\site-packages (from python-slugify->kaggle) (1.3)\n",
      "Requirement already satisfied: colorama in e:\\respaldo\\documentos\\data analisis\\clima\\.venv\\lib\\site-packages (from tqdm->kaggle) (0.4.6)\n",
      "Requirement already satisfied: pycparser in e:\\respaldo\\documentos\\data analisis\\clima\\.venv\\lib\\site-packages (from cffi>=1.14->trio~=0.17->selenium) (2.22)\n",
      "Requirement already satisfied: h11<1,>=0.9.0 in e:\\respaldo\\documentos\\data analisis\\clima\\.venv\\lib\\site-packages (from wsproto>=0.14->trio-websocket~=0.9->selenium) (0.14.0)\n",
      "Downloading psycopg2_binary-2.9.10-cp313-cp313-win_amd64.whl (2.6 MB)\n",
      "   ---------------------------------------- 0.0/2.6 MB ? eta -:--:--\n",
      "   ---------------------------------------- 0.0/2.6 MB ? eta -:--:--\n",
      "   ------------ --------------------------- 0.8/2.6 MB 4.5 MB/s eta 0:00:01\n",
      "   ---------------------------------------- 2.6/2.6 MB 7.6 MB/s eta 0:00:00\n",
      "Installing collected packages: psycopg2-binary\n",
      "Successfully installed psycopg2-binary-2.9.10\n"
     ]
    }
   ],
   "source": [
    "#instalacion de librerias\n",
    "! pip install kaggle sqlalchemy pandas numpy seaborn requests lxml selenium psycopg2-binary\n",
    "! pip freeze > requirements.txt"
   ]
  },
  {
   "cell_type": "code",
   "execution_count": 3,
   "metadata": {},
   "outputs": [
    {
     "name": "stderr",
     "output_type": "stream",
     "text": [
      "<>:3: SyntaxWarning: invalid escape sequence '\\R'\n",
      "<>:3: SyntaxWarning: invalid escape sequence '\\R'\n",
      "C:\\Users\\ERBC\\AppData\\Local\\Temp\\ipykernel_9660\\1915072911.py:3: SyntaxWarning: invalid escape sequence '\\R'\n",
      "  os.environ['KAGGLE_CONFIG_DIR'] = 'E:\\Respaldo\\Documentos\\data analisis\\clima\\.kaggle'\n"
     ]
    }
   ],
   "source": [
    "import os\n",
    "# Configurar la API de Kaggle\n",
    "os.environ['KAGGLE_CONFIG_DIR'] = 'E:\\Respaldo\\Documentos\\data analisis\\clima\\.kaggle'"
   ]
  },
  {
   "cell_type": "code",
   "execution_count": 4,
   "metadata": {},
   "outputs": [],
   "source": [
    "from kaggle.api.kaggle_api_extended import KaggleApi\n",
    "\n",
    "# Configurar la API\n",
    "api = KaggleApi()\n",
    "api.authenticate()"
   ]
  },
  {
   "cell_type": "code",
   "execution_count": 5,
   "metadata": {},
   "outputs": [
    {
     "name": "stderr",
     "output_type": "stream",
     "text": [
      "<>:3: SyntaxWarning: invalid escape sequence '\\R'\n",
      "<>:3: SyntaxWarning: invalid escape sequence '\\R'\n",
      "C:\\Users\\ERBC\\AppData\\Local\\Temp\\ipykernel_9660\\3307531975.py:3: SyntaxWarning: invalid escape sequence '\\R'\n",
      "  output_path = 'E:\\Respaldo\\Documentos\\data analisis\\clima\\descargas'\n"
     ]
    },
    {
     "name": "stdout",
     "output_type": "stream",
     "text": [
      "Dataset URL: https://www.kaggle.com/datasets/selfishgene/historical-hourly-weather-data\n"
     ]
    }
   ],
   "source": [
    "# Descargar el dataset\n",
    "dataset = 'selfishgene/historical-hourly-weather-data'  # identificador del dataset de Kaggle\n",
    "output_path = 'E:\\Respaldo\\Documentos\\data analisis\\clima\\descargas'\n",
    "api.dataset_download_files(dataset, path=output_path, unzip=True)"
   ]
  },
  {
   "cell_type": "code",
   "execution_count": null,
   "metadata": {},
   "outputs": [
    {
     "name": "stdout",
     "output_type": "stream",
     "text": [
      "True\n",
      "Los archivos son iguales. Eliminado el nuevo para liberar espacio\n",
      "El archivo nuevo 'E:\\Respaldo\\Documentos\\data analisis\\clima\\descargas\\weather_description.csv' ha sido eliminado.\n"
     ]
    }
   ],
   "source": [
    "# comparar si el archivo descargado es igual al antiguo\n",
    "import pandas as pd\n",
    "\n",
    "archivo_player_info_antiguo = r\"E:\\Respaldo\\Documentos\\data analisis\\clima\\data_bruta\\weather_description.csv\" #se asigna la ruta a una variable\n",
    "df_antiguo1 = pd.read_csv(archivo_player_info_antiguo)\n",
    "\n",
    "archivo_player_info_nuevo = r\"E:\\Respaldo\\Documentos\\data analisis\\clima\\descargas\\weather_description.csv\" #se asigna la ruta a una variable\n",
    "df_nuevo1 = pd.read_csv(archivo_player_info_nuevo)\n",
    "\n",
    "son_iguales = df_antiguo1.equals(df_nuevo1)\n",
    "print(son_iguales) # True si son iguales, False si no lo son\n",
    "\n",
    "if son_iguales:\n",
    "    print(\"Los archivos son iguales. Eliminado el nuevo para liberar espacio\")\n",
    "    # Eliminar el archivo nuevo\n",
    "    os.remove(archivo_player_info_nuevo)\n",
    "    print(f\"El archivo nuevo '{archivo_player_info_nuevo}' ha sido eliminado.\")\n",
    "else:\n",
    "    print(\"Son diferentes sustituyendo el archivo antiguo por el nuevo....\")\n",
    "    # Sustituir el archivo antiguo por el nuevo\n",
    "    df_nuevo1.to_csv(archivo_player_info_antiguo, index=False)\n",
    "    print(\"El archivo antiguo ha sido sustituido por el nuevo.\")\n",
    "\n",
    "    # Eliminar el archivo nuevo\n",
    "    os.remove(archivo_player_info_nuevo)\n",
    "    print(f\"El archivo nuevo '{archivo_player_info_nuevo}' ha sido eliminado.\")"
   ]
  },
  {
   "cell_type": "code",
   "execution_count": 8,
   "metadata": {},
   "outputs": [
    {
     "name": "stdout",
     "output_type": "stream",
     "text": [
      "🚀 Proceso completado para todos los archivos.\n"
     ]
    }
   ],
   "source": [
    "import pandas as pd\n",
    "import os\n",
    "\n",
    "# Directorios\n",
    "carpeta_antiguos = r\"E:\\Respaldo\\Documentos\\data analisis\\clima\\data_bruta\"\n",
    "carpeta_nuevos = r\"E:\\Respaldo\\Documentos\\data analisis\\clima\\descargas\"\n",
    "\n",
    "# Obtener la lista de archivos en la carpeta de descargas\n",
    "archivos_nuevos = os.listdir(carpeta_nuevos)\n",
    "\n",
    "# Recorrer los archivos y comparar cada uno con su versión antigua\n",
    "for archivo in archivos_nuevos:\n",
    "    ruta_antiguo = os.path.join(carpeta_antiguos, archivo)\n",
    "    ruta_nuevo = os.path.join(carpeta_nuevos, archivo)\n",
    "\n",
    "    # Verificar si el archivo antiguo existe\n",
    "    if os.path.exists(ruta_antiguo):\n",
    "        df_antiguo = pd.read_csv(ruta_antiguo)\n",
    "        df_nuevo = pd.read_csv(ruta_nuevo)\n",
    "\n",
    "        if df_antiguo.equals(df_nuevo):\n",
    "            print(f\"✅ {archivo}: Los archivos son iguales. Eliminando el nuevo...\")\n",
    "            os.remove(ruta_nuevo)\n",
    "        else:\n",
    "            print(f\"🔄 {archivo}: Son diferentes, reemplazando el antiguo con el nuevo...\")\n",
    "            df_nuevo.to_csv(ruta_antiguo, index=False)\n",
    "            os.remove(ruta_nuevo)\n",
    "\n",
    "    else:\n",
    "        print(f\"⚠ {archivo}: No existe en la carpeta antigua. Moviéndolo a data_bruta...\")\n",
    "        os.rename(ruta_nuevo, ruta_antiguo)\n",
    "\n",
    "print(\"🚀 Proceso completado para todos los archivos.\")\n"
   ]
  }
 ],
 "metadata": {
  "kernelspec": {
   "display_name": ".venv",
   "language": "python",
   "name": "python3"
  },
  "language_info": {
   "codemirror_mode": {
    "name": "ipython",
    "version": 3
   },
   "file_extension": ".py",
   "mimetype": "text/x-python",
   "name": "python",
   "nbconvert_exporter": "python",
   "pygments_lexer": "ipython3",
   "version": "3.13.1"
  }
 },
 "nbformat": 4,
 "nbformat_minor": 2
}
